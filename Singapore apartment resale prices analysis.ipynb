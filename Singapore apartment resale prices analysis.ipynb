{
 "cells": [
  {
   "cell_type": "markdown",
   "metadata": {},
   "source": [
    "# Udacity Data Scientist Nanodegree - Project 1: Singapore apartment resale prices analysis"
   ]
  },
  {
   "cell_type": "markdown",
   "metadata": {},
   "source": [
    "## Introduction\n",
    "\n",
    "In this Jupyter Notebook, a thoroughful analysis of the resale price of apartments in the city of Singapore will be performed. A dataset from the Singaporean Government website was downloaded in .csv file. In this case, a dataset containing resale price information from the time period between January 2017 and October 2020 was selected. You can find a lot of different datasets regarding apartment prices in Singapore in this [link](https://data.gov.sg/dataset/resale-flat-prices?resource_id=42ff9cfe-abe5-4b54-beda-c88f9bb438ee).\n",
    "\n",
    "Thanks to this analysis, answers to the following questions will be provided:\n",
    "\n",
    "* Which is the district of Singapore with higher average apartment resale price per square meter? \n",
    "* Apart from the district, which other features significantly affect the resale price?\n",
    "* Which is a reasonable resale price for an apartment in Singapore with specific characteristics?"
   ]
  },
  {
   "cell_type": "markdown",
   "metadata": {},
   "source": [
    "## Step 1 - Preparation & data acquisition\n",
    "\n",
    "In this first step, the different Python libraries needed for the analysis will be imported. The dataset object of analysis will also be imported. The source of this dataset can be found in the introduction, but please notice that the name of the .csv file was changed to make it shorter and easier to read."
   ]
  },
  {
   "cell_type": "code",
   "execution_count": 4,
   "metadata": {},
   "outputs": [
    {
     "ename": "FileNotFoundError",
     "evalue": "[Errno 2] No such file or directory: 'SG_prices.csv'",
     "output_type": "error",
     "traceback": [
      "\u001b[1;31m---------------------------------------------------------------------------\u001b[0m",
      "\u001b[1;31mFileNotFoundError\u001b[0m                         Traceback (most recent call last)",
      "\u001b[1;32m<ipython-input-4-bc4728e256b2>\u001b[0m in \u001b[0;36m<module>\u001b[1;34m\u001b[0m\n\u001b[0;32m     11\u001b[0m \u001b[1;33m\u001b[0m\u001b[0m\n\u001b[0;32m     12\u001b[0m \u001b[1;31m# Read the dataset\u001b[0m\u001b[1;33m\u001b[0m\u001b[1;33m\u001b[0m\u001b[1;33m\u001b[0m\u001b[0m\n\u001b[1;32m---> 13\u001b[1;33m \u001b[0mdf\u001b[0m\u001b[1;33m=\u001b[0m\u001b[0mpd\u001b[0m\u001b[1;33m.\u001b[0m\u001b[0mread_csv\u001b[0m\u001b[1;33m(\u001b[0m\u001b[1;34m\"SG_prices.csv\"\u001b[0m\u001b[1;33m)\u001b[0m\u001b[1;33m\u001b[0m\u001b[1;33m\u001b[0m\u001b[0m\n\u001b[0m",
      "\u001b[1;32m~\\anaconda3\\lib\\site-packages\\pandas\\io\\parsers.py\u001b[0m in \u001b[0;36mread_csv\u001b[1;34m(filepath_or_buffer, sep, delimiter, header, names, index_col, usecols, squeeze, prefix, mangle_dupe_cols, dtype, engine, converters, true_values, false_values, skipinitialspace, skiprows, skipfooter, nrows, na_values, keep_default_na, na_filter, verbose, skip_blank_lines, parse_dates, infer_datetime_format, keep_date_col, date_parser, dayfirst, cache_dates, iterator, chunksize, compression, thousands, decimal, lineterminator, quotechar, quoting, doublequote, escapechar, comment, encoding, dialect, error_bad_lines, warn_bad_lines, delim_whitespace, low_memory, memory_map, float_precision)\u001b[0m\n\u001b[0;32m    684\u001b[0m     )\n\u001b[0;32m    685\u001b[0m \u001b[1;33m\u001b[0m\u001b[0m\n\u001b[1;32m--> 686\u001b[1;33m     \u001b[1;32mreturn\u001b[0m \u001b[0m_read\u001b[0m\u001b[1;33m(\u001b[0m\u001b[0mfilepath_or_buffer\u001b[0m\u001b[1;33m,\u001b[0m \u001b[0mkwds\u001b[0m\u001b[1;33m)\u001b[0m\u001b[1;33m\u001b[0m\u001b[1;33m\u001b[0m\u001b[0m\n\u001b[0m\u001b[0;32m    687\u001b[0m \u001b[1;33m\u001b[0m\u001b[0m\n\u001b[0;32m    688\u001b[0m \u001b[1;33m\u001b[0m\u001b[0m\n",
      "\u001b[1;32m~\\anaconda3\\lib\\site-packages\\pandas\\io\\parsers.py\u001b[0m in \u001b[0;36m_read\u001b[1;34m(filepath_or_buffer, kwds)\u001b[0m\n\u001b[0;32m    450\u001b[0m \u001b[1;33m\u001b[0m\u001b[0m\n\u001b[0;32m    451\u001b[0m     \u001b[1;31m# Create the parser.\u001b[0m\u001b[1;33m\u001b[0m\u001b[1;33m\u001b[0m\u001b[1;33m\u001b[0m\u001b[0m\n\u001b[1;32m--> 452\u001b[1;33m     \u001b[0mparser\u001b[0m \u001b[1;33m=\u001b[0m \u001b[0mTextFileReader\u001b[0m\u001b[1;33m(\u001b[0m\u001b[0mfp_or_buf\u001b[0m\u001b[1;33m,\u001b[0m \u001b[1;33m**\u001b[0m\u001b[0mkwds\u001b[0m\u001b[1;33m)\u001b[0m\u001b[1;33m\u001b[0m\u001b[1;33m\u001b[0m\u001b[0m\n\u001b[0m\u001b[0;32m    453\u001b[0m \u001b[1;33m\u001b[0m\u001b[0m\n\u001b[0;32m    454\u001b[0m     \u001b[1;32mif\u001b[0m \u001b[0mchunksize\u001b[0m \u001b[1;32mor\u001b[0m \u001b[0miterator\u001b[0m\u001b[1;33m:\u001b[0m\u001b[1;33m\u001b[0m\u001b[1;33m\u001b[0m\u001b[0m\n",
      "\u001b[1;32m~\\anaconda3\\lib\\site-packages\\pandas\\io\\parsers.py\u001b[0m in \u001b[0;36m__init__\u001b[1;34m(self, f, engine, **kwds)\u001b[0m\n\u001b[0;32m    944\u001b[0m             \u001b[0mself\u001b[0m\u001b[1;33m.\u001b[0m\u001b[0moptions\u001b[0m\u001b[1;33m[\u001b[0m\u001b[1;34m\"has_index_names\"\u001b[0m\u001b[1;33m]\u001b[0m \u001b[1;33m=\u001b[0m \u001b[0mkwds\u001b[0m\u001b[1;33m[\u001b[0m\u001b[1;34m\"has_index_names\"\u001b[0m\u001b[1;33m]\u001b[0m\u001b[1;33m\u001b[0m\u001b[1;33m\u001b[0m\u001b[0m\n\u001b[0;32m    945\u001b[0m \u001b[1;33m\u001b[0m\u001b[0m\n\u001b[1;32m--> 946\u001b[1;33m         \u001b[0mself\u001b[0m\u001b[1;33m.\u001b[0m\u001b[0m_make_engine\u001b[0m\u001b[1;33m(\u001b[0m\u001b[0mself\u001b[0m\u001b[1;33m.\u001b[0m\u001b[0mengine\u001b[0m\u001b[1;33m)\u001b[0m\u001b[1;33m\u001b[0m\u001b[1;33m\u001b[0m\u001b[0m\n\u001b[0m\u001b[0;32m    947\u001b[0m \u001b[1;33m\u001b[0m\u001b[0m\n\u001b[0;32m    948\u001b[0m     \u001b[1;32mdef\u001b[0m \u001b[0mclose\u001b[0m\u001b[1;33m(\u001b[0m\u001b[0mself\u001b[0m\u001b[1;33m)\u001b[0m\u001b[1;33m:\u001b[0m\u001b[1;33m\u001b[0m\u001b[1;33m\u001b[0m\u001b[0m\n",
      "\u001b[1;32m~\\anaconda3\\lib\\site-packages\\pandas\\io\\parsers.py\u001b[0m in \u001b[0;36m_make_engine\u001b[1;34m(self, engine)\u001b[0m\n\u001b[0;32m   1176\u001b[0m     \u001b[1;32mdef\u001b[0m \u001b[0m_make_engine\u001b[0m\u001b[1;33m(\u001b[0m\u001b[0mself\u001b[0m\u001b[1;33m,\u001b[0m \u001b[0mengine\u001b[0m\u001b[1;33m=\u001b[0m\u001b[1;34m\"c\"\u001b[0m\u001b[1;33m)\u001b[0m\u001b[1;33m:\u001b[0m\u001b[1;33m\u001b[0m\u001b[1;33m\u001b[0m\u001b[0m\n\u001b[0;32m   1177\u001b[0m         \u001b[1;32mif\u001b[0m \u001b[0mengine\u001b[0m \u001b[1;33m==\u001b[0m \u001b[1;34m\"c\"\u001b[0m\u001b[1;33m:\u001b[0m\u001b[1;33m\u001b[0m\u001b[1;33m\u001b[0m\u001b[0m\n\u001b[1;32m-> 1178\u001b[1;33m             \u001b[0mself\u001b[0m\u001b[1;33m.\u001b[0m\u001b[0m_engine\u001b[0m \u001b[1;33m=\u001b[0m \u001b[0mCParserWrapper\u001b[0m\u001b[1;33m(\u001b[0m\u001b[0mself\u001b[0m\u001b[1;33m.\u001b[0m\u001b[0mf\u001b[0m\u001b[1;33m,\u001b[0m \u001b[1;33m**\u001b[0m\u001b[0mself\u001b[0m\u001b[1;33m.\u001b[0m\u001b[0moptions\u001b[0m\u001b[1;33m)\u001b[0m\u001b[1;33m\u001b[0m\u001b[1;33m\u001b[0m\u001b[0m\n\u001b[0m\u001b[0;32m   1179\u001b[0m         \u001b[1;32melse\u001b[0m\u001b[1;33m:\u001b[0m\u001b[1;33m\u001b[0m\u001b[1;33m\u001b[0m\u001b[0m\n\u001b[0;32m   1180\u001b[0m             \u001b[1;32mif\u001b[0m \u001b[0mengine\u001b[0m \u001b[1;33m==\u001b[0m \u001b[1;34m\"python\"\u001b[0m\u001b[1;33m:\u001b[0m\u001b[1;33m\u001b[0m\u001b[1;33m\u001b[0m\u001b[0m\n",
      "\u001b[1;32m~\\anaconda3\\lib\\site-packages\\pandas\\io\\parsers.py\u001b[0m in \u001b[0;36m__init__\u001b[1;34m(self, src, **kwds)\u001b[0m\n\u001b[0;32m   2006\u001b[0m         \u001b[0mkwds\u001b[0m\u001b[1;33m[\u001b[0m\u001b[1;34m\"usecols\"\u001b[0m\u001b[1;33m]\u001b[0m \u001b[1;33m=\u001b[0m \u001b[0mself\u001b[0m\u001b[1;33m.\u001b[0m\u001b[0musecols\u001b[0m\u001b[1;33m\u001b[0m\u001b[1;33m\u001b[0m\u001b[0m\n\u001b[0;32m   2007\u001b[0m \u001b[1;33m\u001b[0m\u001b[0m\n\u001b[1;32m-> 2008\u001b[1;33m         \u001b[0mself\u001b[0m\u001b[1;33m.\u001b[0m\u001b[0m_reader\u001b[0m \u001b[1;33m=\u001b[0m \u001b[0mparsers\u001b[0m\u001b[1;33m.\u001b[0m\u001b[0mTextReader\u001b[0m\u001b[1;33m(\u001b[0m\u001b[0msrc\u001b[0m\u001b[1;33m,\u001b[0m \u001b[1;33m**\u001b[0m\u001b[0mkwds\u001b[0m\u001b[1;33m)\u001b[0m\u001b[1;33m\u001b[0m\u001b[1;33m\u001b[0m\u001b[0m\n\u001b[0m\u001b[0;32m   2009\u001b[0m         \u001b[0mself\u001b[0m\u001b[1;33m.\u001b[0m\u001b[0munnamed_cols\u001b[0m \u001b[1;33m=\u001b[0m \u001b[0mself\u001b[0m\u001b[1;33m.\u001b[0m\u001b[0m_reader\u001b[0m\u001b[1;33m.\u001b[0m\u001b[0munnamed_cols\u001b[0m\u001b[1;33m\u001b[0m\u001b[1;33m\u001b[0m\u001b[0m\n\u001b[0;32m   2010\u001b[0m \u001b[1;33m\u001b[0m\u001b[0m\n",
      "\u001b[1;32mpandas\\_libs\\parsers.pyx\u001b[0m in \u001b[0;36mpandas._libs.parsers.TextReader.__cinit__\u001b[1;34m()\u001b[0m\n",
      "\u001b[1;32mpandas\\_libs\\parsers.pyx\u001b[0m in \u001b[0;36mpandas._libs.parsers.TextReader._setup_parser_source\u001b[1;34m()\u001b[0m\n",
      "\u001b[1;31mFileNotFoundError\u001b[0m: [Errno 2] No such file or directory: 'SG_prices.csv'"
     ]
    }
   ],
   "source": [
    "import pandas as pd\n",
    "import numpy as np\n",
    "import matplotlib.pyplot as plt\n",
    "import seaborn as sns\n",
    "from scipy import stats\n",
    "from sklearn.linear_model import LinearRegression\n",
    "from sklearn.model_selection import train_test_split\n",
    "from sklearn.metrics import r2_score, mean_squared_error\n",
    "from IPython.display import display\n",
    "\n",
    "\n",
    "# Read the dataset\n",
    "df=pd.read_csv(\"SG_prices.csv\")"
   ]
  },
  {
   "cell_type": "markdown",
   "metadata": {},
   "source": [
    "## Question 1: Which is the district of Singapore with higher average apartment resale price per square meter?"
   ]
  },
  {
   "cell_type": "markdown",
   "metadata": {},
   "source": [
    "In this first step, the following features will be analyzed: \"town\", \"floor_area_sqm\" and \"resale_price\". Python groupby feature will be used to classify the apartments depending on the part of the city they are located in. A new feature, \"price_per_sqm\", will be introduced to calculate the average price per square meter of the different \"towns\" or districts of Singapore.\n",
    "\n",
    "Box plots for the the average resale_price, floor_area_sqm and price_per_sqm will be represented to have a better overview of average prices and flat sizes for each district."
   ]
  },
  {
   "cell_type": "code",
   "execution_count": 6,
   "metadata": {},
   "outputs": [
    {
     "ename": "NameError",
     "evalue": "name 'df' is not defined",
     "output_type": "error",
     "traceback": [
      "\u001b[1;31m---------------------------------------------------------------------------\u001b[0m",
      "\u001b[1;31mNameError\u001b[0m                                 Traceback (most recent call last)",
      "\u001b[1;32m<ipython-input-6-71d06dfab839>\u001b[0m in \u001b[0;36m<module>\u001b[1;34m\u001b[0m\n\u001b[0;32m      1\u001b[0m \u001b[1;31m# Obtain a column with the price per sqm from \"resale_price\" and \"floor_area_sqm\" columns\u001b[0m\u001b[1;33m\u001b[0m\u001b[1;33m\u001b[0m\u001b[1;33m\u001b[0m\u001b[0m\n\u001b[0;32m      2\u001b[0m \u001b[1;33m\u001b[0m\u001b[0m\n\u001b[1;32m----> 3\u001b[1;33m \u001b[0mdf_price_sqm\u001b[0m \u001b[1;33m=\u001b[0m \u001b[0mdf_analysis\u001b[0m \u001b[1;33m=\u001b[0m \u001b[0mdf\u001b[0m\u001b[1;33m[\u001b[0m\u001b[1;33m[\u001b[0m\u001b[1;34m\"town\"\u001b[0m\u001b[1;33m,\u001b[0m\u001b[1;34m\"floor_area_sqm\"\u001b[0m\u001b[1;33m,\u001b[0m\u001b[1;34m\"resale_price\"\u001b[0m\u001b[1;33m]\u001b[0m\u001b[1;33m]\u001b[0m\u001b[1;33m.\u001b[0m\u001b[0mcopy\u001b[0m\u001b[1;33m(\u001b[0m\u001b[1;33m)\u001b[0m\u001b[1;33m\u001b[0m\u001b[1;33m\u001b[0m\u001b[0m\n\u001b[0m\u001b[0;32m      4\u001b[0m \u001b[0mdf_price_sqm\u001b[0m\u001b[1;33m[\u001b[0m\u001b[1;34m\"price_per_sqm\"\u001b[0m\u001b[1;33m]\u001b[0m \u001b[1;33m=\u001b[0m \u001b[0mdf_price_sqm\u001b[0m\u001b[1;33m[\u001b[0m\u001b[1;34m\"resale_price\"\u001b[0m\u001b[1;33m]\u001b[0m\u001b[1;33m/\u001b[0m\u001b[0mdf_price_sqm\u001b[0m\u001b[1;33m[\u001b[0m\u001b[1;34m\"floor_area_sqm\"\u001b[0m\u001b[1;33m]\u001b[0m\u001b[1;33m\u001b[0m\u001b[1;33m\u001b[0m\u001b[0m\n\u001b[0;32m      5\u001b[0m \u001b[1;33m\u001b[0m\u001b[0m\n",
      "\u001b[1;31mNameError\u001b[0m: name 'df' is not defined"
     ]
    }
   ],
   "source": [
    "# Obtain a column with the price per sqm from \"resale_price\" and \"floor_area_sqm\" columns\n",
    "\n",
    "df_price_sqm = df_analysis = df[[\"town\",\"floor_area_sqm\",\"resale_price\"]].copy()\n",
    "df_price_sqm[\"price_per_sqm\"] = df_price_sqm[\"resale_price\"]/df_price_sqm[\"floor_area_sqm\"]\n",
    "\n",
    "# Classify the dataset depending on the part of the city\n",
    "df_price_sqm_area = df_price_sqm.groupby([\"town\"])\n",
    "\n",
    "#Obtain the average price per sqm for each component of the group \"town\"\n",
    "df_price_sqm_area_mean = df_price_sqm.groupby([\"town\"]).mean()\n",
    "\n",
    "# Print the new dataset with the average relase_price, floor_area_sqm and price_per_sqm for each component of the group \"town\"\n",
    "df_price_sqm_area_mean[[\"resale_price\",\"floor_area_sqm\",\"price_per_sqm\"]]\n",
    "df_price_sqm_area_mean"
   ]
  },
  {
   "cell_type": "code",
   "execution_count": null,
   "metadata": {},
   "outputs": [],
   "source": [
    "# Bar plot representing average price per sqm for each component of the group \"town\" in descending order\n",
    "\n",
    "df_price_sqm_max = df_price_sqm.groupby([\"town\"])[\"price_per_sqm\"].mean().sort_values(ascending=False)\n",
    "\n",
    "df_price_sqm_max.plot.bar(width = 0.5, fontsize = 20, figsize=(18,12))\n",
    "\n",
    "plt.xticks(rotation='vertical')\n",
    "\n",
    "plt.xlabel(\" \")\n",
    "\n",
    "plt.ylabel('Average apartment price per sqm ($)', fontsize = 25) \n",
    "\n",
    "plt.title('Average apartment price per sqm in Singapore', fontsize = 35)"
   ]
  },
  {
   "cell_type": "code",
   "execution_count": 5,
   "metadata": {},
   "outputs": [
    {
     "ename": "NameError",
     "evalue": "name 'df_price_sqm' is not defined",
     "output_type": "error",
     "traceback": [
      "\u001b[1;31m---------------------------------------------------------------------------\u001b[0m",
      "\u001b[1;31mNameError\u001b[0m                                 Traceback (most recent call last)",
      "\u001b[1;32m<ipython-input-5-f8361711353a>\u001b[0m in \u001b[0;36m<module>\u001b[1;34m\u001b[0m\n\u001b[0;32m      1\u001b[0m \u001b[1;31m# Bar plot representing average resale price for each component of the group \"town\" in descending order\u001b[0m\u001b[1;33m\u001b[0m\u001b[1;33m\u001b[0m\u001b[1;33m\u001b[0m\u001b[0m\n\u001b[0;32m      2\u001b[0m \u001b[1;33m\u001b[0m\u001b[0m\n\u001b[1;32m----> 3\u001b[1;33m \u001b[0mdf_price_max\u001b[0m \u001b[1;33m=\u001b[0m \u001b[0mdf_price_sqm\u001b[0m\u001b[1;33m.\u001b[0m\u001b[0mgroupby\u001b[0m\u001b[1;33m(\u001b[0m\u001b[1;33m[\u001b[0m\u001b[1;34m\"town\"\u001b[0m\u001b[1;33m]\u001b[0m\u001b[1;33m)\u001b[0m\u001b[1;33m[\u001b[0m\u001b[1;34m\"resale_price\"\u001b[0m\u001b[1;33m]\u001b[0m\u001b[1;33m.\u001b[0m\u001b[0mmean\u001b[0m\u001b[1;33m(\u001b[0m\u001b[1;33m)\u001b[0m\u001b[1;33m.\u001b[0m\u001b[0msort_values\u001b[0m\u001b[1;33m(\u001b[0m\u001b[0mascending\u001b[0m\u001b[1;33m=\u001b[0m\u001b[1;32mFalse\u001b[0m\u001b[1;33m)\u001b[0m\u001b[1;33m\u001b[0m\u001b[1;33m\u001b[0m\u001b[0m\n\u001b[0m\u001b[0;32m      4\u001b[0m \u001b[1;33m\u001b[0m\u001b[0m\n\u001b[0;32m      5\u001b[0m \u001b[0mdf_price_max\u001b[0m\u001b[1;33m.\u001b[0m\u001b[0mplot\u001b[0m\u001b[1;33m.\u001b[0m\u001b[0mbar\u001b[0m\u001b[1;33m(\u001b[0m\u001b[0mwidth\u001b[0m \u001b[1;33m=\u001b[0m \u001b[1;36m0.5\u001b[0m\u001b[1;33m,\u001b[0m \u001b[0mfontsize\u001b[0m \u001b[1;33m=\u001b[0m \u001b[1;36m20\u001b[0m\u001b[1;33m,\u001b[0m \u001b[0mfigsize\u001b[0m\u001b[1;33m=\u001b[0m\u001b[1;33m(\u001b[0m\u001b[1;36m18\u001b[0m\u001b[1;33m,\u001b[0m\u001b[1;36m12\u001b[0m\u001b[1;33m)\u001b[0m\u001b[1;33m)\u001b[0m\u001b[1;33m\u001b[0m\u001b[1;33m\u001b[0m\u001b[0m\n",
      "\u001b[1;31mNameError\u001b[0m: name 'df_price_sqm' is not defined"
     ]
    }
   ],
   "source": [
    "# Bar plot representing average resale price for each component of the group \"town\" in descending order\n",
    "\n",
    "df_price_max = df_price_sqm.groupby([\"town\"])[\"resale_price\"].mean().sort_values(ascending=False)\n",
    "\n",
    "df_price_max.plot.bar(width = 0.5, fontsize = 20, figsize=(18,12))\n",
    "\n",
    "plt.xticks(rotation='vertical')\n",
    "\n",
    "plt.xlabel(\" \")\n",
    "\n",
    "plt.ylabel('Average apartment price ($)', fontsize = 25) \n",
    "\n",
    "plt.title('Average apartment price in Singapore', fontsize = 35)"
   ]
  },
  {
   "cell_type": "code",
   "execution_count": null,
   "metadata": {},
   "outputs": [],
   "source": [
    "# Bar plot representing average floor area for each component of the group \"town\" in descending order\n",
    "\n",
    "df_area_max = df_price_sqm.groupby([\"town\"])[\"floor_area_sqm\"].mean().sort_values(ascending=False)\n",
    "\n",
    "df_area_max.plot.bar(width = 0.5, fontsize = 20, figsize=(18,12))\n",
    "\n",
    "plt.xticks(rotation='vertical')\n",
    "\n",
    "plt.xlabel(\" \")\n",
    "\n",
    "plt.ylabel('Average apartment size (sqm)', fontsize = 25) \n",
    "\n",
    "plt.title('Average apartment size in Singapore', fontsize = 35)"
   ]
  },
  {
   "cell_type": "markdown",
   "metadata": {},
   "source": [
    "## Answer to question 1:\n",
    "\n",
    "Singapore Central Area has the highest prices per square meter."
   ]
  },
  {
   "cell_type": "markdown",
   "metadata": {},
   "source": [
    "## Question 2: Apart from the district, which other features significantly affect the resale price?\n",
    "\n",
    "To answer this question, box plots representing the average apartment resale price against different apartment features will be represented. Besides that, the scatter plot of the resale price against the floor area will be represented, and the regression line will also be calculated."
   ]
  },
  {
   "cell_type": "markdown",
   "metadata": {},
   "source": [
    "### Scatter plot and linear regression for \"Resale price\" vs \"Floor area sqm\":"
   ]
  },
  {
   "cell_type": "code",
   "execution_count": null,
   "metadata": {},
   "outputs": [],
   "source": [
    "# Regression line for \"resale price\" vs \"floor area sqm\"\n",
    "\n",
    "sns.regplot(x=\"floor_area_sqm\", y=\"resale_price\", data=df).figure.set_size_inches(18.5, 10.5)\n",
    "plt.title(\"Apartment resale price vs Floor area \", fontsize=30 )\n",
    "plt.xlabel(\"Floor area (sqm)\", fontsize=25)\n",
    "plt.ylabel(\"Apartment price ($)\", fontsize=25)\n",
    "pearson_coef, p_value = stats.pearsonr(df[\"floor_area_sqm\"],df[\"resale_price\"])\n",
    "plt.xticks(fontsize='15')\n",
    "plt.yticks(fontsize='15')\n"
   ]
  },
  {
   "cell_type": "markdown",
   "metadata": {},
   "source": [
    "### Obtain pearson coefficient and p-value of the lineal regression:"
   ]
  },
  {
   "cell_type": "code",
   "execution_count": null,
   "metadata": {},
   "outputs": [],
   "source": [
    "# Obtain the pearson coefficient of the lineal regression\n",
    "pearson_coef\n",
    "\n",
    "# Obtain the p-value of the lineal regression\n",
    "p_value"
   ]
  },
  {
   "cell_type": "markdown",
   "metadata": {},
   "source": [
    "### Residual plot for \"Resale price vs \"Floor area sqm\":"
   ]
  },
  {
   "cell_type": "code",
   "execution_count": null,
   "metadata": {},
   "outputs": [],
   "source": [
    "# Obtain the residual plot of resale_price against floor_area_sqm\n",
    "\n",
    "sns.residplot(df[\"floor_area_sqm\"],df[\"resale_price\"])"
   ]
  },
  {
   "cell_type": "markdown",
   "metadata": {},
   "source": [
    "### Box plot for \"Resale price\" vs \"Flat type\":"
   ]
  },
  {
   "cell_type": "code",
   "execution_count": null,
   "metadata": {},
   "outputs": [],
   "source": [
    "# Box plot for Price vs Flat type\n",
    "\n",
    "columns_my_order = ['1 ROOM', '2 ROOM', '3 ROOM', '4 ROOM', '5 ROOM', 'EXECUTIVE', 'MULTI-GENERATION']\n",
    "sns.boxplot(x=\"flat_type\", y=\"resale_price\", data=df, width=0.5, order=columns_my_order).figure.set_size_inches(18.5, 10.5)\n",
    "columns_my_order = ['1 ROOM', '2 ROOM', '3 ROOM', '4 ROOM', '5 ROOM', 'EXECUTUVE', 'MULTI-GENERATION']\n",
    "plt.title(\"Apartment resale price vs Apartment type \", fontsize=35 )\n",
    "plt.xlabel(\"Apartment type\", fontsize=25)\n",
    "plt.ylabel(\"Apartment price ($)\", fontsize=25)\n",
    "plt.xticks(fontsize='15')\n",
    "plt.yticks(fontsize='15')"
   ]
  },
  {
   "cell_type": "markdown",
   "metadata": {},
   "source": [
    "### Box plot for \"Floor area\" vs \"Flat type\":"
   ]
  },
  {
   "cell_type": "code",
   "execution_count": null,
   "metadata": {},
   "outputs": [],
   "source": [
    "# Box plot for Floor area vs Flat type\n",
    "\n",
    "columns_my_order = ['1 ROOM', '2 ROOM', '3 ROOM', '4 ROOM', '5 ROOM', 'EXECUTIVE', 'MULTI-GENERATION']\n",
    "sns.boxplot(x=\"flat_type\", y=\"floor_area_sqm\", data=df, width=0.5, order=columns_my_order).figure.set_size_inches(18.5, 10.5)\n",
    "columns_my_order = ['1 ROOM', '2 ROOM', '3 ROOM', '4 ROOM', '5 ROOM', 'EXECUTUVE', 'MULTI-GENERATION']\n",
    "plt.title(\"Apartment size vs Apartment type \", fontsize=35 )\n",
    "plt.xlabel(\"Apartment type\", fontsize=25)\n",
    "plt.ylabel(\"Apartment size (sqm)\", fontsize=25)\n",
    "plt.xticks(fontsize='15')\n",
    "plt.yticks(fontsize='15')"
   ]
  },
  {
   "cell_type": "markdown",
   "metadata": {},
   "source": [
    "### Box plot for \"Resale price\" vs \"Month of sale\":"
   ]
  },
  {
   "cell_type": "code",
   "execution_count": null,
   "metadata": {},
   "outputs": [],
   "source": [
    "# Box plot for Price vs Month of sale\n",
    "\n",
    "sns.boxplot(x=\"month\", y=\"resale_price\", data=df).figure.set_size_inches(18.5, 10.5)\n",
    "\n",
    "plt.title(\"Apartment resale price vs Month \", fontsize=35 )\n",
    "plt.xlabel(\"Month\", fontsize=25)\n",
    "plt.ylabel(\"Apartment price ($)\", fontsize=25)\n",
    "plt.xticks(fontsize='15')\n",
    "plt.yticks(fontsize='15')\n",
    "plt.xticks(rotation='vertical')"
   ]
  },
  {
   "cell_type": "markdown",
   "metadata": {},
   "source": [
    "### Box plot for \"Resale price\" vs \"Storey range\":"
   ]
  },
  {
   "cell_type": "code",
   "execution_count": null,
   "metadata": {},
   "outputs": [],
   "source": [
    "# Box plot for Price vs Storey range\n",
    "\n",
    "sns.boxplot(x=\"storey_range\", y=\"resale_price\", data=df, order=columns_my_order).figure.set_size_inches(18.5, 10.5)\n",
    "columns_my_order=[\"01 TO 03\", \"04 TO 06\", \"07 TO 09\", \"10 TO 12\", \"13 TO 15\", \"16 TO 18\", \"19 TO 21\", \"22 TO 24\", \"25 TO 27\", \"28 TO 30\", \"31 TO 33\", \"34 TO 36\", \"37 TO 39\", \"40 TO 42\", \"43 TO 45\", \"46 TO 48\", \"49 TO 51\"]\n",
    "plt.title(\"Apartment resale price vs Storey range \", fontsize=35)\n",
    "plt.xlabel(\"Storey range\", fontsize=25)\n",
    "plt.ylabel(\"Apartment price ($)\", fontsize=25)\n",
    "plt.xticks(fontsize='15')\n",
    "plt.yticks(fontsize='15')\n",
    "plt.xticks(rotation='vertical')"
   ]
  },
  {
   "cell_type": "markdown",
   "metadata": {},
   "source": [
    "### Box plot for \"Resale price\" vs \"Lease commence date\":"
   ]
  },
  {
   "cell_type": "code",
   "execution_count": null,
   "metadata": {},
   "outputs": [],
   "source": [
    "# Box plot for Resale price vs Lease commence date\n",
    "\n",
    "sns.boxplot(x=\"lease_commence_date\", y=\"resale_price\", data=df).figure.set_size_inches(18.5, 10.5)\n",
    "\n",
    "plt.title(\"Apartment resale price vs Lease commence date \", fontsize=35)\n",
    "plt.xlabel(\"Lease commence date (year)\", fontsize=25)\n",
    "plt.ylabel(\"Apartment price ($)\", fontsize=25)\n",
    "plt.xticks(fontsize='15')\n",
    "plt.yticks(fontsize='15')\n",
    "plt.xticks(rotation='vertical')"
   ]
  },
  {
   "cell_type": "markdown",
   "metadata": {},
   "source": [
    "### Box plot for \"Resale price\" vs \"Flat model\":"
   ]
  },
  {
   "cell_type": "code",
   "execution_count": null,
   "metadata": {},
   "outputs": [],
   "source": [
    "# Box plot for Resale price vs Flat model\n",
    "\n",
    "sns.boxplot(x=\"flat_model\", y=\"resale_price\", data=df).figure.set_size_inches(18.5, 10.5)\n",
    "\n",
    "plt.title(\"Apartment resale price vs Apartment model \", fontsize=35)\n",
    "plt.xlabel(\"Apartment model\", fontsize=25)\n",
    "plt.ylabel(\"Apartment price ($)\", fontsize=25)\n",
    "plt.xticks(fontsize='15')\n",
    "plt.yticks(fontsize='15')\n",
    "plt.xticks(rotation='vertical')"
   ]
  },
  {
   "cell_type": "markdown",
   "metadata": {},
   "source": [
    "## Answer to question 2: \n",
    "\n",
    "The type of apartment and the storey range are the features with higher influence to the resale price of the apartments in Singapore, apart from the floor area (directly related to the apartment type). The lease commencement date also seems to play an important role on the price, whereas the date at which the apartment was sold, at least in the period from January 2017 to October 2020, does not reflect any significant impact on the prices."
   ]
  },
  {
   "cell_type": "markdown",
   "metadata": {},
   "source": [
    "## Question 3: Which is a reasonable resale price for an apartment in Singapore with specific characteristics?\n",
    "\n",
    "A multiple linear model will be developed in order to try to provide an answer to this question. For such purpose, the first step is to choose a set of apartment features that might provide better results. Based on the results obtained from questions 1 and 2, the model will be built based on the following information: District of the city, type of flat, floor area of the apartment, lease commence date, storey range, and flat model. Our target variable will be \"resale price\"."
   ]
  },
  {
   "cell_type": "code",
   "execution_count": null,
   "metadata": {},
   "outputs": [],
   "source": [
    "# Extract the columns of interest from the original dataset\n",
    "\n",
    "df_analysis = df[[\"town\",\"flat_type\",\"floor_area_sqm\", \"lease_commence_date\", \"storey_range\",\"resale_price\",\"flat_model\"]].copy()"
   ]
  },
  {
   "cell_type": "markdown",
   "metadata": {},
   "source": [
    "A set of 3 apartments will be picked up from the dataset and the accuracy of the test will be tested by trying to predict the resale price of those three apartments.\n",
    "In order to ensure total independency of the model on these apartments, they will be removed from the dataset and therefore they won't contribute to fit the model."
   ]
  },
  {
   "cell_type": "code",
   "execution_count": null,
   "metadata": {},
   "outputs": [],
   "source": [
    "# Pick three columns as a sample\n",
    "\n",
    "df_analysis.iloc[[25000, 30000, 35000], :] "
   ]
  },
  {
   "cell_type": "code",
   "execution_count": null,
   "metadata": {},
   "outputs": [],
   "source": [
    "# Drop the rows selected in the previous step from the dataset to be analyzed\n",
    "\n",
    "df_analysis.drop([25000,30000,35000], axis=0, inplace = True)"
   ]
  },
  {
   "cell_type": "markdown",
   "metadata": {},
   "source": [
    "Dummy columns will be created for the categorical variables:"
   ]
  },
  {
   "cell_type": "code",
   "execution_count": 1,
   "metadata": {},
   "outputs": [],
   "source": [
    "# This function will allow us create dummy columns for the categorical variables \n",
    "# and drop the original columns corresponding to them\n",
    "# Numerical variables will remain in the df without modifications\n",
    "\n",
    "def create_dummy_df(df):\n",
    " \n",
    "    cat_df = df.select_dtypes(include=['object'])\n",
    "    cat_cols = cat_df.columns\n",
    "\n",
    "    for col in  cat_cols:\n",
    "        try:\n",
    "            # for each cat add dummy var, drop original column\n",
    "            df = pd.concat([df.drop(col, axis=1), pd.get_dummies(df[col], prefix=col, prefix_sep='_', drop_first=False, dummy_na=0)], axis=1)\n",
    "        except:\n",
    "            continue\n",
    "    return df"
   ]
  },
  {
   "cell_type": "code",
   "execution_count": null,
   "metadata": {},
   "outputs": [],
   "source": [
    "# Call the function created in the previous step, selecting df_analysis as input\n",
    "\n",
    "# A generic df with dummy columns for all categorical variables will be created\n",
    "# Original columns for all categorical variables will be removed\n",
    "\n",
    "df_analysis_dummy = create_dummy_df(df_analysis)"
   ]
  },
  {
   "cell_type": "code",
   "execution_count": null,
   "metadata": {},
   "outputs": [],
   "source": [
    "# Check the columns resulting from the creation of df_analysis_dummy in the previous step\n",
    "\n",
    "df_analysis_dummy.columns"
   ]
  },
  {
   "cell_type": "markdown",
   "metadata": {},
   "source": [
    "In this block, features of the three selected apartments will be defined and introduced as input:"
   ]
  },
  {
   "cell_type": "code",
   "execution_count": null,
   "metadata": {},
   "outputs": [],
   "source": [
    "# Corresponding to the row 25000 of the original dataset\n",
    "# input=[[\"BUKIT MERAH\"], [\"3 ROOM\"], [72], [1980], [\"04 TO 06\"], [\"New Generation\"]]\n",
    "\n",
    "# Corresponding to the row 30000 of the original dataset\n",
    "input=[[\"WOODLANDS\"], [\"4 ROOM\"], [86], [2000], [\"10 TO 12\"], [\"Model A2\"]]\n",
    "\n",
    "# Corresponding to the row 35000 of the original dataset\n",
    "# input=[[\"BISHAN\"], [\"4 ROOM\"], [114], [1992], [\"25 TO 27\"], [\"Model A\"]]"
   ]
  },
  {
   "cell_type": "markdown",
   "metadata": {},
   "source": [
    "Dummy variables shall also be created for the input, in a way so that its size and columns matches those of the multiple lineal regression model:"
   ]
  },
  {
   "cell_type": "code",
   "execution_count": null,
   "metadata": {},
   "outputs": [],
   "source": [
    "# The input will be transformed so that it has the same columns as df_analysis_dummy, so that it can be processed by\n",
    "# the model and therefore a predicted resale price can be obtained\n",
    "\n",
    "keys_df_analysis = [\"town\", \"flat_type\", \"floor_area_sqm\", \"lease_commence_date\", \"storey_range\", \"flat_model\"]\n",
    "\n",
    "df_input = pd.DataFrame.from_dict(dict(zip(keys_df_analysis,input)))\n",
    "\n",
    "df_input = pd.concat([df_input.drop(\"town\", axis=1), pd.get_dummies(df_input[\"town\"], prefix=\"town\", prefix_sep='_', drop_first=False, dummy_na=0)], axis = 1)\n",
    "\n",
    "df_input = pd.concat([df_input.drop(\"flat_type\", axis=1), pd.get_dummies(df_input[\"flat_type\"], prefix=\"flat_type\", prefix_sep='_', drop_first=False, dummy_na=0)], axis = 1)\n",
    "\n",
    "df_input = pd.concat([df_input.drop(\"storey_range\", axis=1), pd.get_dummies(df_input[\"storey_range\"], prefix=\"storey_range\", prefix_sep='_', drop_first=False, dummy_na=0)], axis = 1)\n",
    "\n",
    "df_input = pd.concat([df_input.drop(\"flat_model\", axis=1), pd.get_dummies(df_input[\"flat_model\"], prefix=\"flat_model\", prefix_sep='_', drop_first=False, dummy_na=0)], axis = 1)\n",
    "                    \n",
    "missing_cols = set(df_analysis_dummy.columns) - set(df_input.columns)\n",
    "\n",
    "for c in missing_cols:\n",
    "    df_input[c] = 0\n",
    "# Ensure the order of column in the test set is in the same order than in train set\n",
    "df_input = df_input[df_analysis_dummy.columns]\n",
    "\n",
    "df_input_final = df_input.drop(\"resale_price\", axis=1)"
   ]
  },
  {
   "cell_type": "markdown",
   "metadata": {},
   "source": [
    "Dataset is divided into train and test, the model is trained and r2_scores are obtained, which will provide a measurement of the model accuracy:"
   ]
  },
  {
   "cell_type": "code",
   "execution_count": null,
   "metadata": {},
   "outputs": [],
   "source": [
    "# Split the dataset into an X matrix and a response vector y\n",
    "X = df_analysis_dummy.drop(\"resale_price\", axis=1)\n",
    "y = df_analysis_dummy[\"resale_price\"]\n",
    "    \n",
    "# Create training and test sets of data\n",
    "X_train, X_test, y_train, y_test = train_test_split(X, y, test_size = 0.6, random_state=200) \n",
    "    \n",
    "# Instantiate a LinearRegression model with normalized data\n",
    "lm_model = LinearRegression(normalize=True) # Instantiate\n",
    "    \n",
    "# Fit your model to the training data\n",
    "lm_model.fit(X_train, y_train) #Fit\n",
    "    \n",
    "#9 Predict the response for the training data and the test data\n",
    "y_test_preds = lm_model.predict(X_test)\n",
    "y_train_preds = lm_model.predict(X_train)\n",
    "    \n",
    "#10 Obtain an rsquared value for both the training and test data\n",
    "test_score = r2_score(y_test, y_test_preds)\n",
    "train_score = r2_score(y_train, y_train_preds)\n",
    "\n",
    "Price_predicted = lm_model.predict(df_input_final)"
   ]
  },
  {
   "cell_type": "code",
   "execution_count": null,
   "metadata": {},
   "outputs": [],
   "source": [
    "# Obtain the r-square value for the train set\n",
    "test_score"
   ]
  },
  {
   "cell_type": "code",
   "execution_count": null,
   "metadata": {},
   "outputs": [],
   "source": [
    "# Obtain the r-square value for the test set\n",
    "train_score"
   ]
  },
  {
   "cell_type": "markdown",
   "metadata": {},
   "source": [
    "A prediction of the resale price for the apartment that was extracted from the dataset will be calculated:\n"
   ]
  },
  {
   "cell_type": "code",
   "execution_count": null,
   "metadata": {},
   "outputs": [],
   "source": [
    "# Obtain a prediction of resale price\n",
    "Price_predicted"
   ]
  },
  {
   "cell_type": "markdown",
   "metadata": {},
   "source": [
    "## Answer to question 3:\n",
    "\n",
    "The multiple linear regression model built for this analysis provides r2 values of approximately 0.865 for both train and test sets, showing a high robustness. Furthermore, prices predicted for the sample of three apartments showed an error lower than 5% with respect to the real resale price in all cases, corroborating the robustness of the model.\n",
    "\n",
    "Therefore, it is concluded that a reasonable resale prices for an apartment in Singapore can be predicted/calculated by using a multiple linear regression model if enough information is provided."
   ]
  },
  {
   "cell_type": "markdown",
   "metadata": {},
   "source": [
    "## Conclusion\n",
    "\n",
    "From the dataset analysed it was possible to identify which features have a higher impact on the resale price of apartments and which ones barely affect it. Based on those with a higher influence on the price, it was possible to build a multiple lineal regression model that provides good r-square values and also a very accurate estimation of the resale price of a sample of 3 apartments, with an error lower than 5% in all cases."
   ]
  },
  {
   "cell_type": "code",
   "execution_count": null,
   "metadata": {},
   "outputs": [],
   "source": []
  }
 ],
 "metadata": {
  "kernelspec": {
   "display_name": "Python 3",
   "language": "python",
   "name": "python3"
  },
  "language_info": {
   "codemirror_mode": {
    "name": "ipython",
    "version": 3
   },
   "file_extension": ".py",
   "mimetype": "text/x-python",
   "name": "python",
   "nbconvert_exporter": "python",
   "pygments_lexer": "ipython3",
   "version": "3.8.5"
  }
 },
 "nbformat": 4,
 "nbformat_minor": 4
}
